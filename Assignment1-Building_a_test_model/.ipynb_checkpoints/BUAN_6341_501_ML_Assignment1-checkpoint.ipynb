{
 "cells": [
  {
   "cell_type": "markdown",
   "metadata": {
    "colab_type": "text",
    "id": "view-in-github"
   },
   "source": [
    "<a href=\"https://colab.research.google.com/github/obengdouglas/UTD-BUAN6341_AppliedML/blob/main/Assignment1-Building_a_test_model/BUAN_6341_501_ML_Assignment1.ipynb\" target=\"_parent\"><img src=\"https://colab.research.google.com/assets/colab-badge.svg\" alt=\"Open In Colab\"/></a>"
   ]
  },
  {
   "cell_type": "markdown",
   "metadata": {
    "id": "6q9JKa0nGTUw"
   },
   "source": [
    "#Classification of Iris flowers using Machine Learning"
   ]
  },
  {
   "cell_type": "markdown",
   "metadata": {
    "id": "Dd1p9BPAgX6t"
   },
   "source": [
    "<h3>University of Texas at Dallas - MS Business Analytics </h3>\n",
    "<h3>BUAN 6341.501 - Applied Machine Learning - S23 </h3>\n",
    "<h3>Assignment 1: Building a test model - Douglas Obeng</h3>\n",
    "<center><img src='https://raw.githubusercontent.com/obengdouglas/UTD-BUAN6341_AppliedML/main/Assignment1-Building_a_test_model/iris-flower.webp' width=\"600\" height=\"314\" alt=\"Image of iris flower\"></center>\n",
    "\n",
    "Notebook submitted for Assignment 1 of the Applied Machine Learning Course at The University of Texas at Dallas, Spring 2023\n",
    "\n",
    "In this project, machine learning is used to model 3 species of iris flowers using some characteristics of the flowers.\n",
    "\n",
    "The goal is to build a simple test model that can be used to predict unknown species of iris flowers."
   ]
  },
  {
   "cell_type": "markdown",
   "metadata": {
    "id": "7LEeOsM4GGPA"
   },
   "source": [
    "# Assignment Specifics"
   ]
  },
  {
   "cell_type": "markdown",
   "metadata": {
    "id": "pamfaU3bCBTH"
   },
   "source": [
    "- Create a data set of about 15 to 20 records and three to four features.\n",
    "- Load your data into a Dataframe\n",
    "- Split your data into two tables – One with features and one with outcomes (only one column – with a binary outcome)\n",
    "- Clean your data set (Use a CSV file and it will be easier to clean)\n",
    "- Build a model based\n",
    "- Use the Predict method to predict a value that is not in your outcomes\n",
    "- Due Date – Tuesday, January 31, 2022 by Midnight.\n",
    "- You will upload your assignment in the dropbox  ."
   ]
  },
  {
   "cell_type": "markdown",
   "metadata": {
    "id": "YqhIlGDKGAvI"
   },
   "source": [
    "# Introduction"
   ]
  },
  {
   "cell_type": "markdown",
   "metadata": {
    "id": "hG2dkbUX3Cnb"
   },
   "source": [
    "The iris is a common flowering plant (genus *iris*) mainly found in the temperate zones of the Northern hemisphere. There are about 310 species that come in various sizes, shapes and colours. \n",
    "\n",
    "Three of the most common species are the *iris setosa*, *iris versicolor* and *iris virginica*. These 3 look similar in color (bluish purple) and shape but may be distinguished from one another using the dimensions of their flower petals and sepals. \n",
    "\n",
    "The original Iris flower data set, also known as Fisher's Iris data or Anderson's Iris data set was used by British Biologist Statistician Ronald Fisher in his 1936 paper *The use of multiple measurements in taxonomic problems*. The data was collected by Edgar Anderson and consists of 50 samples of each of the 3 species (150 total).\n",
    "\n",
    "**References**\n",
    "\n",
    "\n",
    "[Neuraldesigner - Iris flower classification](https://www.neuraldesigner.com/learning/examples/iris-flowers-classification#DataSet)\n",
    "\n",
    "[Analyticsvidhya - Iris flower classification using ML](https://www.analyticsvidhya.com/blog/2022/06/iris-flowers-classification-using-machine-learning/)\n",
    "\n",
    "[Kaggle - Iris flower dataset](https://www.kaggle.com/datasets/arshid/iris-flower-dataset?select=IRIS.csv)\n",
    "\n",
    "[Wikipedia - Iris flower](https://en.wikipedia.org/wiki/Iris_(plant))\n",
    "\n",
    "\n",
    "[Wikipedia - Iris flower data set](https://en.wikipedia.org/wiki/Iris_flower_data_set)\n",
    "\n"
   ]
  },
  {
   "cell_type": "markdown",
   "metadata": {
    "id": "UlEfMP-7L62o"
   },
   "source": [
    "#Data"
   ]
  },
  {
   "cell_type": "markdown",
   "metadata": {
    "id": "w8UJg9iIsLSH"
   },
   "source": [
    "The data for this project was downloaded from the Kaggle website - [Iris Flower Dataset](https://https://www.kaggle.com/datasets/arshid/iris-flower-dataset?select=IRIS.csv).\n",
    "\n",
    "The data has been saved in my github repository for direct online access within this notebook: [DO Github - complete iris dataset](https://github.com/obengdouglas/UTD-BUAN6341_AppliedML/blob/main/Assignment1-Building_a_test_model/IRIS.csv).\n",
    "\n",
    "\n",
    "**NOTE - For the purpose of this assignment, the original dataset has been modified to include only 20 records with 2 possible outcomes (iris setosa and iris versicolor). Two of the records have also been given null values for illustration of data cleaning. There is the option to use the complete data though**\n",
    "\n",
    "\n",
    "The modified data has been saved in my github repository for direct online read in the notebook: [DO Github - modified iris dataset](https://raw.githubusercontent.com/obengdouglas/UTD-BUAN6341_AppliedML/main/Assignment1-Building_a_test_model/IRIS_modified.csv)\n",
    "\n",
    "<center><img src='https://raw.githubusercontent.com/obengdouglas/UTD-BUAN6341_AppliedML/main/Assignment1-Building_a_test_model/iris_species.jpg' width=\"511\" height=\"230\" alt=\"image of the 3 iris species used in model - iris setosa, iris versicolor and iris virginica\"></center>\n",
    "\n",
    "The 4 independent features are Sepal Length, Sepal Width, Petal Length, and Petal Width. All the lengths are in centimeters. The dependent feature (outcome) is Species. Species refers to one of the species whose characteristics were measured.\n",
    "\n"
   ]
  },
  {
   "cell_type": "markdown",
   "metadata": {
    "id": "efutFac2CNdT"
   },
   "source": [
    "# Libraries and packages"
   ]
  },
  {
   "cell_type": "code",
   "execution_count": 1,
   "metadata": {
    "id": "ZdshZoCrXE_k"
   },
   "outputs": [],
   "source": [
    "#import libraries\n",
    "import pandas as pd\n",
    "from sklearn.tree import DecisionTreeClassifier"
   ]
  },
  {
   "cell_type": "markdown",
   "metadata": {
    "id": "X0hbzaCEHYGt"
   },
   "source": [
    "#Load dataset into dataframe"
   ]
  },
  {
   "cell_type": "code",
   "execution_count": 2,
   "metadata": {
    "colab": {
     "base_uri": "https://localhost:8080/",
     "height": 676
    },
    "id": "ofOSIfEuYBJy",
    "outputId": "efe3c1cd-a340-4b4d-c071-ebbcf63adf84"
   },
   "outputs": [
    {
     "ename": "NameError",
     "evalue": "name 'iris' is not defined",
     "output_type": "error",
     "traceback": [
      "\u001b[1;31m---------------------------------------------------------------------------\u001b[0m",
      "\u001b[1;31mNameError\u001b[0m                                 Traceback (most recent call last)",
      "\u001b[1;32m~\\AppData\\Local\\Temp\\ipykernel_26924\\1134967573.py\u001b[0m in \u001b[0;36m<module>\u001b[1;34m\u001b[0m\n\u001b[0;32m      3\u001b[0m \u001b[1;31m#irisdata = 'https://raw.githubusercontent.com/obengdouglas/UTD-BUAN6341_AppliedML/blob/main/Assignment1-Building_a_test_model/IRIS.csv' #uncomment this line to use complete dataset\u001b[0m\u001b[1;33m\u001b[0m\u001b[1;33m\u001b[0m\u001b[0m\n\u001b[0;32m      4\u001b[0m \u001b[1;33m\u001b[0m\u001b[0m\n\u001b[1;32m----> 5\u001b[1;33m \u001b[0miris\u001b[0m\u001b[1;33m.\u001b[0m\u001b[0mdf\u001b[0m \u001b[1;33m=\u001b[0m \u001b[0mpd\u001b[0m\u001b[1;33m.\u001b[0m\u001b[0mread_csv\u001b[0m\u001b[1;33m(\u001b[0m\u001b[0mirisdata\u001b[0m\u001b[1;33m)\u001b[0m \u001b[1;31m#read data\u001b[0m\u001b[1;33m\u001b[0m\u001b[1;33m\u001b[0m\u001b[0m\n\u001b[0m\u001b[0;32m      6\u001b[0m \u001b[0miris\u001b[0m\u001b[1;33m.\u001b[0m\u001b[0mdf\u001b[0m \u001b[1;31m#view dataframe\u001b[0m\u001b[1;33m\u001b[0m\u001b[1;33m\u001b[0m\u001b[0m\n",
      "\u001b[1;31mNameError\u001b[0m: name 'iris' is not defined"
     ]
    }
   ],
   "source": [
    "irisdata = 'https://raw.githubusercontent.com/obengdouglas/UTD-BUAN6341_AppliedML/main/Assignment1-Building_a_test_model/IRIS_modified.csv' #save url of modified dataset location as object\n",
    "\n",
    "#irisdata = 'https://raw.githubusercontent.com/obengdouglas/UTD-BUAN6341_AppliedML/blob/main/Assignment1-Building_a_test_model/IRIS.csv' #uncomment this line to use complete dataset\n",
    "\n",
    "iris.df = pd.read_csv(irisdata) #read data\n",
    "iris.df #view dataframe"
   ]
  },
  {
   "cell_type": "markdown",
   "metadata": {
    "id": "s5wUqwu3Dru2"
   },
   "source": [
    "# Data Cleaning\n",
    "\n",
    "Drop rows with null values"
   ]
  },
  {
   "cell_type": "code",
   "execution_count": null,
   "metadata": {
    "colab": {
     "base_uri": "https://localhost:8080/",
     "height": 676
    },
    "id": "Uoz4sG7SB1xf",
    "outputId": "821d0eef-dc2f-49bf-d1fd-a3104ea32fdb"
   },
   "outputs": [],
   "source": [
    "iris.isnull() #dataframe showing boolean results for the presence of null values. Index 5 and 6 have TRUE for column 'petal_width'"
   ]
  },
  {
   "cell_type": "code",
   "execution_count": null,
   "metadata": {
    "colab": {
     "base_uri": "https://localhost:8080/"
    },
    "id": "IGRZDT5MFPgr",
    "outputId": "3fcf2fce-ee43-453a-9dea-2f6eeab46078"
   },
   "outputs": [],
   "source": [
    "iris.df.isnull().sum() #number of null values for each column. Column petal_width has 2 null values\n"
   ]
  },
  {
   "cell_type": "code",
   "execution_count": null,
   "metadata": {
    "id": "4tCGeV1RFPSD"
   },
   "outputs": [],
   "source": [
    "iris_clean.df = iris.df.dropna(how=\"any\") #drop all rows that have at least one null value (any)"
   ]
  },
  {
   "cell_type": "code",
   "execution_count": 3,
   "metadata": {
    "colab": {
     "base_uri": "https://localhost:8080/",
     "height": 614
    },
    "id": "KF3k7hqUFPH7",
    "outputId": "d36d0a8e-9476-444c-c89f-0542d39fa8de"
   },
   "outputs": [
    {
     "ename": "NameError",
     "evalue": "name 'iris_clean' is not defined",
     "output_type": "error",
     "traceback": [
      "\u001b[1;31m---------------------------------------------------------------------------\u001b[0m",
      "\u001b[1;31mNameError\u001b[0m                                 Traceback (most recent call last)",
      "\u001b[1;32m~\\AppData\\Local\\Temp\\ipykernel_26924\\1772594982.py\u001b[0m in \u001b[0;36m<module>\u001b[1;34m\u001b[0m\n\u001b[1;32m----> 1\u001b[1;33m \u001b[0miris_clean\u001b[0m\u001b[1;33m.\u001b[0m\u001b[0mdf\u001b[0m \u001b[1;31m#view cleaned dataframe\u001b[0m\u001b[1;33m\u001b[0m\u001b[1;33m\u001b[0m\u001b[0m\n\u001b[0m",
      "\u001b[1;31mNameError\u001b[0m: name 'iris_clean' is not defined"
     ]
    }
   ],
   "source": [
    "iris_clean.df #view cleaned dataframe"
   ]
  },
  {
   "cell_type": "markdown",
   "metadata": {
    "id": "wd-W0kiSQCik"
   },
   "source": [
    "#Exploratory Data Analysis (EDA)"
   ]
  },
  {
   "cell_type": "code",
   "execution_count": 4,
   "metadata": {
    "colab": {
     "base_uri": "https://localhost:8080/",
     "height": 744
    },
    "id": "uaM4_ersN_ki",
    "outputId": "5406d997-2ea0-4193-d415-431dee2334ae"
   },
   "outputs": [
    {
     "ename": "NameError",
     "evalue": "name 'iris_clean' is not defined",
     "output_type": "error",
     "traceback": [
      "\u001b[1;31m---------------------------------------------------------------------------\u001b[0m",
      "\u001b[1;31mNameError\u001b[0m                                 Traceback (most recent call last)",
      "\u001b[1;32m~\\AppData\\Local\\Temp\\ipykernel_26924\\1316111674.py\u001b[0m in \u001b[0;36m<module>\u001b[1;34m\u001b[0m\n\u001b[0;32m      1\u001b[0m \u001b[1;32mimport\u001b[0m \u001b[0mseaborn\u001b[0m \u001b[1;32mas\u001b[0m \u001b[0msns\u001b[0m\u001b[1;33m\u001b[0m\u001b[1;33m\u001b[0m\u001b[0m\n\u001b[1;32m----> 2\u001b[1;33m \u001b[0msns\u001b[0m\u001b[1;33m.\u001b[0m\u001b[0mpairplot\u001b[0m\u001b[1;33m(\u001b[0m\u001b[0miris_clean\u001b[0m\u001b[1;33m.\u001b[0m\u001b[0mdf\u001b[0m\u001b[1;33m,\u001b[0m \u001b[0mhue\u001b[0m\u001b[1;33m=\u001b[0m\u001b[1;34m'species'\u001b[0m\u001b[1;33m)\u001b[0m \u001b[1;31m#Use seaborn to plot pairwise relationship of independent features\u001b[0m\u001b[1;33m\u001b[0m\u001b[1;33m\u001b[0m\u001b[0m\n\u001b[0m",
      "\u001b[1;31mNameError\u001b[0m: name 'iris_clean' is not defined"
     ]
    }
   ],
   "source": [
    "import seaborn as sns\n",
    "sns.pairplot(iris_clean.df, hue='species') #Use seaborn to plot pairwise relationship of independent features"
   ]
  },
  {
   "cell_type": "markdown",
   "metadata": {
    "id": "33xh1TUtfrcj"
   },
   "source": [
    "#Split data into features and outcome"
   ]
  },
  {
   "cell_type": "code",
   "execution_count": null,
   "metadata": {
    "id": "HUviNaX_rGms"
   },
   "outputs": [],
   "source": [
    "X = iris_clean.df.drop(columns = ['species']) #save features as X \n",
    "y = iris_clean.df['species'] #save outcome as y"
   ]
  },
  {
   "cell_type": "code",
   "execution_count": null,
   "metadata": {
    "colab": {
     "base_uri": "https://localhost:8080/",
     "height": 614
    },
    "id": "2oCRDiQmIMrw",
    "outputId": "8ba988d0-acd4-49cf-c540-9b132bb30048"
   },
   "outputs": [],
   "source": [
    "X #view features dataframe"
   ]
  },
  {
   "cell_type": "code",
   "execution_count": null,
   "metadata": {
    "colab": {
     "base_uri": "https://localhost:8080/"
    },
    "id": "v218uV82rTN_",
    "outputId": "3b5737ba-0f44-4e14-ce8e-30abf7279377"
   },
   "outputs": [],
   "source": [
    "y #view outcome dataframe"
   ]
  },
  {
   "cell_type": "markdown",
   "metadata": {
    "id": "RWWhdTenIZ_O"
   },
   "source": [
    "#Model Training"
   ]
  },
  {
   "cell_type": "code",
   "execution_count": null,
   "metadata": {
    "colab": {
     "base_uri": "https://localhost:8080/"
    },
    "id": "kWGRmabyYgep",
    "outputId": "6a482794-d885-4a15-d98b-15a2cdf970b8"
   },
   "outputs": [],
   "source": [
    "model = DecisionTreeClassifier() #select type of model algorithm to use\n",
    "model.fit(X,y) #fit model"
   ]
  },
  {
   "cell_type": "markdown",
   "metadata": {
    "id": "q1PJ-jJ5Iff1"
   },
   "source": [
    "#Model Prediction"
   ]
  },
  {
   "cell_type": "code",
   "execution_count": null,
   "metadata": {
    "colab": {
     "base_uri": "https://localhost:8080/"
    },
    "id": "plgZ2CSjfNCH",
    "outputId": "501cea1f-81ce-478f-8450-9ed02a9d9d00"
   },
   "outputs": [],
   "source": [
    "predictions = model.predict([[6,3,1.5,0.3], [6,2.5,4,3.5]]) #predict the outcoe of 2unknown species of iris flowers with the specified feature dimensions in order\n",
    "predictions #view prediction results"
   ]
  },
  {
   "cell_type": "markdown",
   "metadata": {
    "id": "WlBjBMHvFn9y"
   },
   "source": [
    "# Conclusion"
   ]
  },
  {
   "cell_type": "markdown",
   "metadata": {
    "id": "lOwmSJlyJQ6M"
   },
   "source": [
    "The model has predicted the unknown species as *Iris*-setosa and Iris-versicolor respectively"
   ]
  }
 ],
 "metadata": {
  "colab": {
   "authorship_tag": "ABX9TyMpCOkUgCfNLgx3aMUVaPyw",
   "include_colab_link": true,
   "mount_file_id": "1T_OfhFWICQGde6Bn7jhYLZQXww9-7r_V",
   "provenance": []
  },
  "kernelspec": {
   "display_name": "Python 3 (ipykernel)",
   "language": "python",
   "name": "python3"
  },
  "language_info": {
   "codemirror_mode": {
    "name": "ipython",
    "version": 3
   },
   "file_extension": ".py",
   "mimetype": "text/x-python",
   "name": "python",
   "nbconvert_exporter": "python",
   "pygments_lexer": "ipython3",
   "version": "3.9.13"
  }
 },
 "nbformat": 4,
 "nbformat_minor": 1
}
