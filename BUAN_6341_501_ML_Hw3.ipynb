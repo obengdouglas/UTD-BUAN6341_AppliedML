{
  "cells": [
    {
      "cell_type": "markdown",
      "metadata": {
        "id": "view-in-github",
        "colab_type": "text"
      },
      "source": [
        "<a href=\"https://colab.research.google.com/github/obengdouglas/UTD-BUAN6341_AppliedML/blob/main/BUAN_6341_501_ML_Hw3.ipynb\" target=\"_parent\"><img src=\"https://colab.research.google.com/assets/colab-badge.svg\" alt=\"Open In Colab\"/></a>"
      ]
    },
    {
      "cell_type": "markdown",
      "source": [
        "#Assignment 3: Decision Tree Classification"
      ],
      "metadata": {
        "id": "6q9JKa0nGTUw"
      }
    },
    {
      "cell_type": "markdown",
      "source": [
        "<h3>University of Texas at Dallas - MS Business Analytics </h3>\n",
        "<h3>BUAN 6341.501: Applied Machine Learning - S23 </h3>\n",
        "<h3>By: Douglas Obeng</h3>\n",
        "\n",
        ".\n",
        "\n",
        "Notebook submitted for Assignment 3 of the Applied Machine Learning Course at The University of Texas at Dallas, Spring 2023\n",
        "\n",
        "In this project, a Decision Tree model is used to predict whether a person will attend a comedy show based on age, experience, rank and nationality."
      ],
      "metadata": {
        "id": "Dd1p9BPAgX6t"
      }
    },
    {
      "cell_type": "markdown",
      "source": [
        "# Assignment Specifics"
      ],
      "metadata": {
        "id": "7LEeOsM4GGPA"
      }
    },
    {
      "cell_type": "markdown",
      "source": [
        "In this assignment, you will use what you have learned to make a \"Decision Tree\". A Decision Tree is a Flow Chart and can help you make decisions based on previous experience.\n",
        "In the example, a person will try to decide if he/she should go to a comedy show or not.\n",
        "Luckily our example person has registered every time there was a comedy show in town, and registered some information about the comedian, and also registered if he/she went or not.\n"
      ],
      "metadata": {
        "id": "pamfaU3bCBTH"
      }
    },
    {
      "cell_type": "markdown",
      "source": [
        "#Data"
      ],
      "metadata": {
        "id": "UlEfMP-7L62o"
      }
    },
    {
      "cell_type": "markdown",
      "source": [
        "The data for this assignment was provided as text. This has been put into an excel csv file.\n",
        "\n",
        "The data has been saved in my github repository for direct online access within this notebook: [DO Github - complete iris dataset](https://github.com/obengdouglas/UTD-BUAN6341_AppliedML/blob/main/Assignment1-Building_a_test_model/IRIS.csv).\n",
        "\n",
        "The data has 5 columns made up of 4 independent or feature variables and 1 outcome or dependent variable. The 4 independent features are Age, Experience, Rank and Nationality. The dependent variable (outcome) is Go. "
      ],
      "metadata": {
        "id": "w8UJg9iIsLSH"
      }
    },
    {
      "cell_type": "markdown",
      "source": [
        "#Step 0 – Import necessary python libraries and packages.###"
      ],
      "metadata": {
        "id": "efutFac2CNdT"
      }
    },
    {
      "cell_type": "code",
      "execution_count": 105,
      "metadata": {
        "id": "ZdshZoCrXE_k"
      },
      "outputs": [],
      "source": [
        "#import libraries and packages\n",
        "import pandas as pd # data processing\n",
        "from sklearn import tree #ML package\n",
        "from sklearn.tree import DecisionTreeClassifier #decision tree models"
      ]
    },
    {
      "cell_type": "markdown",
      "source": [
        "#Step 1 – Read the data set using Pandas."
      ],
      "metadata": {
        "id": "X0hbzaCEHYGt"
      }
    },
    {
      "cell_type": "code",
      "execution_count": 106,
      "metadata": {
        "id": "ofOSIfEuYBJy"
      },
      "outputs": [],
      "source": [
        "#load read dataset. I have saved the dataset in a csv file saved in my public github for online access\n",
        "decision = pd.read_csv(\"https://raw.githubusercontent.com/obengdouglas/UTD-BUAN6341_AppliedML/main/Assignment-3_DecisionTrees/DecisionTree_hw3.csv\") #or replace with local dataset location\n"
      ]
    },
    {
      "cell_type": "code",
      "source": [
        "#View first 5 lines of data\n",
        "decision.head(5)"
      ],
      "metadata": {
        "colab": {
          "base_uri": "https://localhost:8080/",
          "height": 206
        },
        "id": "sGCVyGDxeeez",
        "outputId": "8c41a0d3-df16-444d-be65-e37c970c8438"
      },
      "execution_count": 107,
      "outputs": [
        {
          "output_type": "execute_result",
          "data": {
            "text/plain": [
              "   Age  Experience  Rank Nationality   Go\n",
              "0   36          10     9          UK   NO\n",
              "1   42          12     4         USA   NO\n",
              "2   23           4     6           N   NO\n",
              "3   52           4     4         USA   NO\n",
              "4   43          21     8         USA  YES"
            ],
            "text/html": [
              "\n",
              "  <div id=\"df-75766ada-629b-47d5-ad3e-583cc4c357ae\">\n",
              "    <div class=\"colab-df-container\">\n",
              "      <div>\n",
              "<style scoped>\n",
              "    .dataframe tbody tr th:only-of-type {\n",
              "        vertical-align: middle;\n",
              "    }\n",
              "\n",
              "    .dataframe tbody tr th {\n",
              "        vertical-align: top;\n",
              "    }\n",
              "\n",
              "    .dataframe thead th {\n",
              "        text-align: right;\n",
              "    }\n",
              "</style>\n",
              "<table border=\"1\" class=\"dataframe\">\n",
              "  <thead>\n",
              "    <tr style=\"text-align: right;\">\n",
              "      <th></th>\n",
              "      <th>Age</th>\n",
              "      <th>Experience</th>\n",
              "      <th>Rank</th>\n",
              "      <th>Nationality</th>\n",
              "      <th>Go</th>\n",
              "    </tr>\n",
              "  </thead>\n",
              "  <tbody>\n",
              "    <tr>\n",
              "      <th>0</th>\n",
              "      <td>36</td>\n",
              "      <td>10</td>\n",
              "      <td>9</td>\n",
              "      <td>UK</td>\n",
              "      <td>NO</td>\n",
              "    </tr>\n",
              "    <tr>\n",
              "      <th>1</th>\n",
              "      <td>42</td>\n",
              "      <td>12</td>\n",
              "      <td>4</td>\n",
              "      <td>USA</td>\n",
              "      <td>NO</td>\n",
              "    </tr>\n",
              "    <tr>\n",
              "      <th>2</th>\n",
              "      <td>23</td>\n",
              "      <td>4</td>\n",
              "      <td>6</td>\n",
              "      <td>N</td>\n",
              "      <td>NO</td>\n",
              "    </tr>\n",
              "    <tr>\n",
              "      <th>3</th>\n",
              "      <td>52</td>\n",
              "      <td>4</td>\n",
              "      <td>4</td>\n",
              "      <td>USA</td>\n",
              "      <td>NO</td>\n",
              "    </tr>\n",
              "    <tr>\n",
              "      <th>4</th>\n",
              "      <td>43</td>\n",
              "      <td>21</td>\n",
              "      <td>8</td>\n",
              "      <td>USA</td>\n",
              "      <td>YES</td>\n",
              "    </tr>\n",
              "  </tbody>\n",
              "</table>\n",
              "</div>\n",
              "      <button class=\"colab-df-convert\" onclick=\"convertToInteractive('df-75766ada-629b-47d5-ad3e-583cc4c357ae')\"\n",
              "              title=\"Convert this dataframe to an interactive table.\"\n",
              "              style=\"display:none;\">\n",
              "        \n",
              "  <svg xmlns=\"http://www.w3.org/2000/svg\" height=\"24px\"viewBox=\"0 0 24 24\"\n",
              "       width=\"24px\">\n",
              "    <path d=\"M0 0h24v24H0V0z\" fill=\"none\"/>\n",
              "    <path d=\"M18.56 5.44l.94 2.06.94-2.06 2.06-.94-2.06-.94-.94-2.06-.94 2.06-2.06.94zm-11 1L8.5 8.5l.94-2.06 2.06-.94-2.06-.94L8.5 2.5l-.94 2.06-2.06.94zm10 10l.94 2.06.94-2.06 2.06-.94-2.06-.94-.94-2.06-.94 2.06-2.06.94z\"/><path d=\"M17.41 7.96l-1.37-1.37c-.4-.4-.92-.59-1.43-.59-.52 0-1.04.2-1.43.59L10.3 9.45l-7.72 7.72c-.78.78-.78 2.05 0 2.83L4 21.41c.39.39.9.59 1.41.59.51 0 1.02-.2 1.41-.59l7.78-7.78 2.81-2.81c.8-.78.8-2.07 0-2.86zM5.41 20L4 18.59l7.72-7.72 1.47 1.35L5.41 20z\"/>\n",
              "  </svg>\n",
              "      </button>\n",
              "      \n",
              "  <style>\n",
              "    .colab-df-container {\n",
              "      display:flex;\n",
              "      flex-wrap:wrap;\n",
              "      gap: 12px;\n",
              "    }\n",
              "\n",
              "    .colab-df-convert {\n",
              "      background-color: #E8F0FE;\n",
              "      border: none;\n",
              "      border-radius: 50%;\n",
              "      cursor: pointer;\n",
              "      display: none;\n",
              "      fill: #1967D2;\n",
              "      height: 32px;\n",
              "      padding: 0 0 0 0;\n",
              "      width: 32px;\n",
              "    }\n",
              "\n",
              "    .colab-df-convert:hover {\n",
              "      background-color: #E2EBFA;\n",
              "      box-shadow: 0px 1px 2px rgba(60, 64, 67, 0.3), 0px 1px 3px 1px rgba(60, 64, 67, 0.15);\n",
              "      fill: #174EA6;\n",
              "    }\n",
              "\n",
              "    [theme=dark] .colab-df-convert {\n",
              "      background-color: #3B4455;\n",
              "      fill: #D2E3FC;\n",
              "    }\n",
              "\n",
              "    [theme=dark] .colab-df-convert:hover {\n",
              "      background-color: #434B5C;\n",
              "      box-shadow: 0px 1px 3px 1px rgba(0, 0, 0, 0.15);\n",
              "      filter: drop-shadow(0px 1px 2px rgba(0, 0, 0, 0.3));\n",
              "      fill: #FFFFFF;\n",
              "    }\n",
              "  </style>\n",
              "\n",
              "      <script>\n",
              "        const buttonEl =\n",
              "          document.querySelector('#df-75766ada-629b-47d5-ad3e-583cc4c357ae button.colab-df-convert');\n",
              "        buttonEl.style.display =\n",
              "          google.colab.kernel.accessAllowed ? 'block' : 'none';\n",
              "\n",
              "        async function convertToInteractive(key) {\n",
              "          const element = document.querySelector('#df-75766ada-629b-47d5-ad3e-583cc4c357ae');\n",
              "          const dataTable =\n",
              "            await google.colab.kernel.invokeFunction('convertToInteractive',\n",
              "                                                     [key], {});\n",
              "          if (!dataTable) return;\n",
              "\n",
              "          const docLinkHtml = 'Like what you see? Visit the ' +\n",
              "            '<a target=\"_blank\" href=https://colab.research.google.com/notebooks/data_table.ipynb>data table notebook</a>'\n",
              "            + ' to learn more about interactive tables.';\n",
              "          element.innerHTML = '';\n",
              "          dataTable['output_type'] = 'display_data';\n",
              "          await google.colab.output.renderOutput(dataTable, element);\n",
              "          const docLink = document.createElement('div');\n",
              "          docLink.innerHTML = docLinkHtml;\n",
              "          element.appendChild(docLink);\n",
              "        }\n",
              "      </script>\n",
              "    </div>\n",
              "  </div>\n",
              "  "
            ]
          },
          "metadata": {},
          "execution_count": 107
        }
      ]
    },
    {
      "cell_type": "code",
      "source": [
        "#Summary description of numerical variables\n",
        "decision.describe()"
      ],
      "metadata": {
        "id": "4tCGeV1RFPSD",
        "colab": {
          "base_uri": "https://localhost:8080/",
          "height": 300
        },
        "outputId": "ddc8fe9a-d7e5-40fe-fd4c-362060b1ccc6"
      },
      "execution_count": 108,
      "outputs": [
        {
          "output_type": "execute_result",
          "data": {
            "text/plain": [
              "             Age  Experience       Rank\n",
              "count  13.000000   13.000000  13.000000\n",
              "mean   39.615385    8.846154   6.846154\n",
              "std    13.263600    5.727800   1.908147\n",
              "min    18.000000    3.000000   4.000000\n",
              "25%    35.000000    4.000000   5.000000\n",
              "50%    42.000000    9.000000   7.000000\n",
              "75%    45.000000   13.000000   9.000000\n",
              "max    66.000000   21.000000   9.000000"
            ],
            "text/html": [
              "\n",
              "  <div id=\"df-b8a42b20-d3dc-4ab7-95d3-84b8733c9613\">\n",
              "    <div class=\"colab-df-container\">\n",
              "      <div>\n",
              "<style scoped>\n",
              "    .dataframe tbody tr th:only-of-type {\n",
              "        vertical-align: middle;\n",
              "    }\n",
              "\n",
              "    .dataframe tbody tr th {\n",
              "        vertical-align: top;\n",
              "    }\n",
              "\n",
              "    .dataframe thead th {\n",
              "        text-align: right;\n",
              "    }\n",
              "</style>\n",
              "<table border=\"1\" class=\"dataframe\">\n",
              "  <thead>\n",
              "    <tr style=\"text-align: right;\">\n",
              "      <th></th>\n",
              "      <th>Age</th>\n",
              "      <th>Experience</th>\n",
              "      <th>Rank</th>\n",
              "    </tr>\n",
              "  </thead>\n",
              "  <tbody>\n",
              "    <tr>\n",
              "      <th>count</th>\n",
              "      <td>13.000000</td>\n",
              "      <td>13.000000</td>\n",
              "      <td>13.000000</td>\n",
              "    </tr>\n",
              "    <tr>\n",
              "      <th>mean</th>\n",
              "      <td>39.615385</td>\n",
              "      <td>8.846154</td>\n",
              "      <td>6.846154</td>\n",
              "    </tr>\n",
              "    <tr>\n",
              "      <th>std</th>\n",
              "      <td>13.263600</td>\n",
              "      <td>5.727800</td>\n",
              "      <td>1.908147</td>\n",
              "    </tr>\n",
              "    <tr>\n",
              "      <th>min</th>\n",
              "      <td>18.000000</td>\n",
              "      <td>3.000000</td>\n",
              "      <td>4.000000</td>\n",
              "    </tr>\n",
              "    <tr>\n",
              "      <th>25%</th>\n",
              "      <td>35.000000</td>\n",
              "      <td>4.000000</td>\n",
              "      <td>5.000000</td>\n",
              "    </tr>\n",
              "    <tr>\n",
              "      <th>50%</th>\n",
              "      <td>42.000000</td>\n",
              "      <td>9.000000</td>\n",
              "      <td>7.000000</td>\n",
              "    </tr>\n",
              "    <tr>\n",
              "      <th>75%</th>\n",
              "      <td>45.000000</td>\n",
              "      <td>13.000000</td>\n",
              "      <td>9.000000</td>\n",
              "    </tr>\n",
              "    <tr>\n",
              "      <th>max</th>\n",
              "      <td>66.000000</td>\n",
              "      <td>21.000000</td>\n",
              "      <td>9.000000</td>\n",
              "    </tr>\n",
              "  </tbody>\n",
              "</table>\n",
              "</div>\n",
              "      <button class=\"colab-df-convert\" onclick=\"convertToInteractive('df-b8a42b20-d3dc-4ab7-95d3-84b8733c9613')\"\n",
              "              title=\"Convert this dataframe to an interactive table.\"\n",
              "              style=\"display:none;\">\n",
              "        \n",
              "  <svg xmlns=\"http://www.w3.org/2000/svg\" height=\"24px\"viewBox=\"0 0 24 24\"\n",
              "       width=\"24px\">\n",
              "    <path d=\"M0 0h24v24H0V0z\" fill=\"none\"/>\n",
              "    <path d=\"M18.56 5.44l.94 2.06.94-2.06 2.06-.94-2.06-.94-.94-2.06-.94 2.06-2.06.94zm-11 1L8.5 8.5l.94-2.06 2.06-.94-2.06-.94L8.5 2.5l-.94 2.06-2.06.94zm10 10l.94 2.06.94-2.06 2.06-.94-2.06-.94-.94-2.06-.94 2.06-2.06.94z\"/><path d=\"M17.41 7.96l-1.37-1.37c-.4-.4-.92-.59-1.43-.59-.52 0-1.04.2-1.43.59L10.3 9.45l-7.72 7.72c-.78.78-.78 2.05 0 2.83L4 21.41c.39.39.9.59 1.41.59.51 0 1.02-.2 1.41-.59l7.78-7.78 2.81-2.81c.8-.78.8-2.07 0-2.86zM5.41 20L4 18.59l7.72-7.72 1.47 1.35L5.41 20z\"/>\n",
              "  </svg>\n",
              "      </button>\n",
              "      \n",
              "  <style>\n",
              "    .colab-df-container {\n",
              "      display:flex;\n",
              "      flex-wrap:wrap;\n",
              "      gap: 12px;\n",
              "    }\n",
              "\n",
              "    .colab-df-convert {\n",
              "      background-color: #E8F0FE;\n",
              "      border: none;\n",
              "      border-radius: 50%;\n",
              "      cursor: pointer;\n",
              "      display: none;\n",
              "      fill: #1967D2;\n",
              "      height: 32px;\n",
              "      padding: 0 0 0 0;\n",
              "      width: 32px;\n",
              "    }\n",
              "\n",
              "    .colab-df-convert:hover {\n",
              "      background-color: #E2EBFA;\n",
              "      box-shadow: 0px 1px 2px rgba(60, 64, 67, 0.3), 0px 1px 3px 1px rgba(60, 64, 67, 0.15);\n",
              "      fill: #174EA6;\n",
              "    }\n",
              "\n",
              "    [theme=dark] .colab-df-convert {\n",
              "      background-color: #3B4455;\n",
              "      fill: #D2E3FC;\n",
              "    }\n",
              "\n",
              "    [theme=dark] .colab-df-convert:hover {\n",
              "      background-color: #434B5C;\n",
              "      box-shadow: 0px 1px 3px 1px rgba(0, 0, 0, 0.15);\n",
              "      filter: drop-shadow(0px 1px 2px rgba(0, 0, 0, 0.3));\n",
              "      fill: #FFFFFF;\n",
              "    }\n",
              "  </style>\n",
              "\n",
              "      <script>\n",
              "        const buttonEl =\n",
              "          document.querySelector('#df-b8a42b20-d3dc-4ab7-95d3-84b8733c9613 button.colab-df-convert');\n",
              "        buttonEl.style.display =\n",
              "          google.colab.kernel.accessAllowed ? 'block' : 'none';\n",
              "\n",
              "        async function convertToInteractive(key) {\n",
              "          const element = document.querySelector('#df-b8a42b20-d3dc-4ab7-95d3-84b8733c9613');\n",
              "          const dataTable =\n",
              "            await google.colab.kernel.invokeFunction('convertToInteractive',\n",
              "                                                     [key], {});\n",
              "          if (!dataTable) return;\n",
              "\n",
              "          const docLinkHtml = 'Like what you see? Visit the ' +\n",
              "            '<a target=\"_blank\" href=https://colab.research.google.com/notebooks/data_table.ipynb>data table notebook</a>'\n",
              "            + ' to learn more about interactive tables.';\n",
              "          element.innerHTML = '';\n",
              "          dataTable['output_type'] = 'display_data';\n",
              "          await google.colab.output.renderOutput(dataTable, element);\n",
              "          const docLink = document.createElement('div');\n",
              "          docLink.innerHTML = docLinkHtml;\n",
              "          element.appendChild(docLink);\n",
              "        }\n",
              "      </script>\n",
              "    </div>\n",
              "  </div>\n",
              "  "
            ]
          },
          "metadata": {},
          "execution_count": 108
        }
      ]
    },
    {
      "cell_type": "code",
      "source": [
        "#Get information on column data types\n",
        "#Age, Experience and Rank are integers whilst Nationality and Go are objects\n",
        "decision.info()"
      ],
      "metadata": {
        "colab": {
          "base_uri": "https://localhost:8080/"
        },
        "id": "IGRZDT5MFPgr",
        "outputId": "ee2483ff-b284-4467-cab7-7a4983fbb1ce"
      },
      "execution_count": 109,
      "outputs": [
        {
          "output_type": "stream",
          "name": "stdout",
          "text": [
            "<class 'pandas.core.frame.DataFrame'>\n",
            "RangeIndex: 13 entries, 0 to 12\n",
            "Data columns (total 5 columns):\n",
            " #   Column       Non-Null Count  Dtype \n",
            "---  ------       --------------  ----- \n",
            " 0   Age          13 non-null     int64 \n",
            " 1   Experience   13 non-null     int64 \n",
            " 2   Rank         13 non-null     int64 \n",
            " 3   Nationality  13 non-null     object\n",
            " 4   Go           13 non-null     object\n",
            "dtypes: int64(3), object(2)\n",
            "memory usage: 648.0+ bytes\n"
          ]
        }
      ]
    },
    {
      "cell_type": "markdown",
      "source": [
        "#Step 2 – Convert Non-Numerical Data into Numerical data.\n",
        "\n",
        "Decision Trees work with only numerical variables. From the description above, our data has 2 non-numerical variables, Nationality and Go. In order to use them, we have to convert them into numerical variables. \n",
        "\n",
        "Nationality is nominal data; therefore we convert to numerical by creating dummy variables (0,1) for each unique value of Nationality. We can use the get_dummies method of one-hot encoder for this. The Nationality column is converted to 3 distinct columns with 0/1 dummies for N, UK and USA. \n",
        "\n",
        "For Go, we will convert Yes and No to 1 and 0 respectively. To do this, we first have to convert the datatype from object to category. Also, because Go is the target variable, we do not need to use one-hot encoder. We can simple use label encoding (0, 1, 2, 3,...). It is possible to use Go without converting to numerical but I prefer to convert. "
      ],
      "metadata": {
        "id": "RWWhdTenIZ_O"
      }
    },
    {
      "cell_type": "code",
      "source": [
        "#Converting categorical variables to numerical using get_dummies (one-hot encoding)\n",
        "decision_num = pd.get_dummies(decision, columns=[\"Nationality\"]) # using get_dummies method of one-hot encoder\n",
        "\n",
        "decision_num[\"Go\"] = decision_num[\"Go\"].astype('category') #convert Go from object to category\n",
        "decision_num[\"Go\"] = decision_num[\"Go\"].cat.codes #convert Go values to numericals\n",
        "\n",
        "decision_num"
      ],
      "metadata": {
        "colab": {
          "base_uri": "https://localhost:8080/",
          "height": 457
        },
        "id": "Hs9hPEhdEAm1",
        "outputId": "30b02b2c-447a-4ae1-ddd2-26e278ee5ff1"
      },
      "execution_count": 110,
      "outputs": [
        {
          "output_type": "execute_result",
          "data": {
            "text/plain": [
              "    Age  Experience  Rank  Go  Nationality_N  Nationality_UK  Nationality_USA\n",
              "0    36          10     9   0              0               1                0\n",
              "1    42          12     4   0              0               0                1\n",
              "2    23           4     6   0              1               0                0\n",
              "3    52           4     4   0              0               0                1\n",
              "4    43          21     8   1              0               0                1\n",
              "5    44          14     5   0              0               1                0\n",
              "6    66           3     7   1              1               0                0\n",
              "7    35          14     9   1              0               1                0\n",
              "8    52          13     7   1              1               0                0\n",
              "9    35           5     9   1              1               0                0\n",
              "10   24           3     5   0              0               0                1\n",
              "11   18           3     7   1              0               1                0\n",
              "12   45           9     9   1              0               1                0"
            ],
            "text/html": [
              "\n",
              "  <div id=\"df-c658f33e-1188-47a2-aaf1-8867fda360fb\">\n",
              "    <div class=\"colab-df-container\">\n",
              "      <div>\n",
              "<style scoped>\n",
              "    .dataframe tbody tr th:only-of-type {\n",
              "        vertical-align: middle;\n",
              "    }\n",
              "\n",
              "    .dataframe tbody tr th {\n",
              "        vertical-align: top;\n",
              "    }\n",
              "\n",
              "    .dataframe thead th {\n",
              "        text-align: right;\n",
              "    }\n",
              "</style>\n",
              "<table border=\"1\" class=\"dataframe\">\n",
              "  <thead>\n",
              "    <tr style=\"text-align: right;\">\n",
              "      <th></th>\n",
              "      <th>Age</th>\n",
              "      <th>Experience</th>\n",
              "      <th>Rank</th>\n",
              "      <th>Go</th>\n",
              "      <th>Nationality_N</th>\n",
              "      <th>Nationality_UK</th>\n",
              "      <th>Nationality_USA</th>\n",
              "    </tr>\n",
              "  </thead>\n",
              "  <tbody>\n",
              "    <tr>\n",
              "      <th>0</th>\n",
              "      <td>36</td>\n",
              "      <td>10</td>\n",
              "      <td>9</td>\n",
              "      <td>0</td>\n",
              "      <td>0</td>\n",
              "      <td>1</td>\n",
              "      <td>0</td>\n",
              "    </tr>\n",
              "    <tr>\n",
              "      <th>1</th>\n",
              "      <td>42</td>\n",
              "      <td>12</td>\n",
              "      <td>4</td>\n",
              "      <td>0</td>\n",
              "      <td>0</td>\n",
              "      <td>0</td>\n",
              "      <td>1</td>\n",
              "    </tr>\n",
              "    <tr>\n",
              "      <th>2</th>\n",
              "      <td>23</td>\n",
              "      <td>4</td>\n",
              "      <td>6</td>\n",
              "      <td>0</td>\n",
              "      <td>1</td>\n",
              "      <td>0</td>\n",
              "      <td>0</td>\n",
              "    </tr>\n",
              "    <tr>\n",
              "      <th>3</th>\n",
              "      <td>52</td>\n",
              "      <td>4</td>\n",
              "      <td>4</td>\n",
              "      <td>0</td>\n",
              "      <td>0</td>\n",
              "      <td>0</td>\n",
              "      <td>1</td>\n",
              "    </tr>\n",
              "    <tr>\n",
              "      <th>4</th>\n",
              "      <td>43</td>\n",
              "      <td>21</td>\n",
              "      <td>8</td>\n",
              "      <td>1</td>\n",
              "      <td>0</td>\n",
              "      <td>0</td>\n",
              "      <td>1</td>\n",
              "    </tr>\n",
              "    <tr>\n",
              "      <th>5</th>\n",
              "      <td>44</td>\n",
              "      <td>14</td>\n",
              "      <td>5</td>\n",
              "      <td>0</td>\n",
              "      <td>0</td>\n",
              "      <td>1</td>\n",
              "      <td>0</td>\n",
              "    </tr>\n",
              "    <tr>\n",
              "      <th>6</th>\n",
              "      <td>66</td>\n",
              "      <td>3</td>\n",
              "      <td>7</td>\n",
              "      <td>1</td>\n",
              "      <td>1</td>\n",
              "      <td>0</td>\n",
              "      <td>0</td>\n",
              "    </tr>\n",
              "    <tr>\n",
              "      <th>7</th>\n",
              "      <td>35</td>\n",
              "      <td>14</td>\n",
              "      <td>9</td>\n",
              "      <td>1</td>\n",
              "      <td>0</td>\n",
              "      <td>1</td>\n",
              "      <td>0</td>\n",
              "    </tr>\n",
              "    <tr>\n",
              "      <th>8</th>\n",
              "      <td>52</td>\n",
              "      <td>13</td>\n",
              "      <td>7</td>\n",
              "      <td>1</td>\n",
              "      <td>1</td>\n",
              "      <td>0</td>\n",
              "      <td>0</td>\n",
              "    </tr>\n",
              "    <tr>\n",
              "      <th>9</th>\n",
              "      <td>35</td>\n",
              "      <td>5</td>\n",
              "      <td>9</td>\n",
              "      <td>1</td>\n",
              "      <td>1</td>\n",
              "      <td>0</td>\n",
              "      <td>0</td>\n",
              "    </tr>\n",
              "    <tr>\n",
              "      <th>10</th>\n",
              "      <td>24</td>\n",
              "      <td>3</td>\n",
              "      <td>5</td>\n",
              "      <td>0</td>\n",
              "      <td>0</td>\n",
              "      <td>0</td>\n",
              "      <td>1</td>\n",
              "    </tr>\n",
              "    <tr>\n",
              "      <th>11</th>\n",
              "      <td>18</td>\n",
              "      <td>3</td>\n",
              "      <td>7</td>\n",
              "      <td>1</td>\n",
              "      <td>0</td>\n",
              "      <td>1</td>\n",
              "      <td>0</td>\n",
              "    </tr>\n",
              "    <tr>\n",
              "      <th>12</th>\n",
              "      <td>45</td>\n",
              "      <td>9</td>\n",
              "      <td>9</td>\n",
              "      <td>1</td>\n",
              "      <td>0</td>\n",
              "      <td>1</td>\n",
              "      <td>0</td>\n",
              "    </tr>\n",
              "  </tbody>\n",
              "</table>\n",
              "</div>\n",
              "      <button class=\"colab-df-convert\" onclick=\"convertToInteractive('df-c658f33e-1188-47a2-aaf1-8867fda360fb')\"\n",
              "              title=\"Convert this dataframe to an interactive table.\"\n",
              "              style=\"display:none;\">\n",
              "        \n",
              "  <svg xmlns=\"http://www.w3.org/2000/svg\" height=\"24px\"viewBox=\"0 0 24 24\"\n",
              "       width=\"24px\">\n",
              "    <path d=\"M0 0h24v24H0V0z\" fill=\"none\"/>\n",
              "    <path d=\"M18.56 5.44l.94 2.06.94-2.06 2.06-.94-2.06-.94-.94-2.06-.94 2.06-2.06.94zm-11 1L8.5 8.5l.94-2.06 2.06-.94-2.06-.94L8.5 2.5l-.94 2.06-2.06.94zm10 10l.94 2.06.94-2.06 2.06-.94-2.06-.94-.94-2.06-.94 2.06-2.06.94z\"/><path d=\"M17.41 7.96l-1.37-1.37c-.4-.4-.92-.59-1.43-.59-.52 0-1.04.2-1.43.59L10.3 9.45l-7.72 7.72c-.78.78-.78 2.05 0 2.83L4 21.41c.39.39.9.59 1.41.59.51 0 1.02-.2 1.41-.59l7.78-7.78 2.81-2.81c.8-.78.8-2.07 0-2.86zM5.41 20L4 18.59l7.72-7.72 1.47 1.35L5.41 20z\"/>\n",
              "  </svg>\n",
              "      </button>\n",
              "      \n",
              "  <style>\n",
              "    .colab-df-container {\n",
              "      display:flex;\n",
              "      flex-wrap:wrap;\n",
              "      gap: 12px;\n",
              "    }\n",
              "\n",
              "    .colab-df-convert {\n",
              "      background-color: #E8F0FE;\n",
              "      border: none;\n",
              "      border-radius: 50%;\n",
              "      cursor: pointer;\n",
              "      display: none;\n",
              "      fill: #1967D2;\n",
              "      height: 32px;\n",
              "      padding: 0 0 0 0;\n",
              "      width: 32px;\n",
              "    }\n",
              "\n",
              "    .colab-df-convert:hover {\n",
              "      background-color: #E2EBFA;\n",
              "      box-shadow: 0px 1px 2px rgba(60, 64, 67, 0.3), 0px 1px 3px 1px rgba(60, 64, 67, 0.15);\n",
              "      fill: #174EA6;\n",
              "    }\n",
              "\n",
              "    [theme=dark] .colab-df-convert {\n",
              "      background-color: #3B4455;\n",
              "      fill: #D2E3FC;\n",
              "    }\n",
              "\n",
              "    [theme=dark] .colab-df-convert:hover {\n",
              "      background-color: #434B5C;\n",
              "      box-shadow: 0px 1px 3px 1px rgba(0, 0, 0, 0.15);\n",
              "      filter: drop-shadow(0px 1px 2px rgba(0, 0, 0, 0.3));\n",
              "      fill: #FFFFFF;\n",
              "    }\n",
              "  </style>\n",
              "\n",
              "      <script>\n",
              "        const buttonEl =\n",
              "          document.querySelector('#df-c658f33e-1188-47a2-aaf1-8867fda360fb button.colab-df-convert');\n",
              "        buttonEl.style.display =\n",
              "          google.colab.kernel.accessAllowed ? 'block' : 'none';\n",
              "\n",
              "        async function convertToInteractive(key) {\n",
              "          const element = document.querySelector('#df-c658f33e-1188-47a2-aaf1-8867fda360fb');\n",
              "          const dataTable =\n",
              "            await google.colab.kernel.invokeFunction('convertToInteractive',\n",
              "                                                     [key], {});\n",
              "          if (!dataTable) return;\n",
              "\n",
              "          const docLinkHtml = 'Like what you see? Visit the ' +\n",
              "            '<a target=\"_blank\" href=https://colab.research.google.com/notebooks/data_table.ipynb>data table notebook</a>'\n",
              "            + ' to learn more about interactive tables.';\n",
              "          element.innerHTML = '';\n",
              "          dataTable['output_type'] = 'display_data';\n",
              "          await google.colab.output.renderOutput(dataTable, element);\n",
              "          const docLink = document.createElement('div');\n",
              "          docLink.innerHTML = docLinkHtml;\n",
              "          element.appendChild(docLink);\n",
              "        }\n",
              "      </script>\n",
              "    </div>\n",
              "  </div>\n",
              "  "
            ]
          },
          "metadata": {},
          "execution_count": 110
        }
      ]
    },
    {
      "cell_type": "markdown",
      "source": [
        "#Step 3 - Separate the feature columns from the target column."
      ],
      "metadata": {
        "id": "q1PJ-jJ5Iff1"
      }
    },
    {
      "cell_type": "code",
      "execution_count": 111,
      "metadata": {
        "id": "plgZ2CSjfNCH"
      },
      "outputs": [],
      "source": [
        "#Specify dependent and independent variables. In our data, Go is dependent variable whilst \n",
        "#the remaining variables are independent\n",
        "features = [\"Age\", \"Experience\", \"Rank\", \"Nationality_N\", \"Nationality_UK\", \"Nationality_USA\"] #One of the Nationality dummies can be ommitted without affecting the solution\n",
        "X = decision_num[features]\n",
        "y = decision_num[\"Go\"]"
      ]
    },
    {
      "cell_type": "markdown",
      "source": [
        "#Step 4 - Create and display a Decision Tree"
      ],
      "metadata": {
        "id": "WlBjBMHvFn9y"
      }
    },
    {
      "cell_type": "code",
      "source": [
        "#Create Decision Tree model. All required packages already imported in step 0.\n",
        "decisiontree = DecisionTreeClassifier(random_state=35)\n",
        "decisiontree = decisiontree.fit(X.values, y)\n",
        "\n",
        "tree.plot_tree(decisiontree, feature_names=features,  filled=True, proportion=True, rounded=True, precision=3, fontsize=8)\n",
        "\n",
        "#Initial runs of the algorithm yielded different answers for every run. This is because the random_state argument was the default (None)\n",
        "#This meant that the algorithm used a random seed for each run hence the different answers. In order to keep my answer repeatable,\n",
        "#I have set my random_state to a seed of 35."
      ],
      "metadata": {
        "id": "ttWn3Y3k_96-",
        "outputId": "0b8528d3-4c0e-4d0c-ff0d-e8e810325a5d",
        "colab": {
          "base_uri": "https://localhost:8080/",
          "height": 562
        }
      },
      "execution_count": 112,
      "outputs": [
        {
          "output_type": "execute_result",
          "data": {
            "text/plain": [
              "[Text(0.2857142857142857, 0.9, 'Rank <= 6.5\\ngini = 0.497\\nsamples = 100.0%\\nvalue = [0.462, 0.538]'),\n",
              " Text(0.14285714285714285, 0.7, 'gini = 0.0\\nsamples = 38.5%\\nvalue = [1.0, 0.0]'),\n",
              " Text(0.42857142857142855, 0.7, 'Nationality_UK <= 0.5\\ngini = 0.219\\nsamples = 61.5%\\nvalue = [0.125, 0.875]'),\n",
              " Text(0.2857142857142857, 0.5, 'gini = 0.0\\nsamples = 30.8%\\nvalue = [0.0, 1.0]'),\n",
              " Text(0.5714285714285714, 0.5, 'Age <= 35.5\\ngini = 0.375\\nsamples = 30.8%\\nvalue = [0.25, 0.75]'),\n",
              " Text(0.42857142857142855, 0.3, 'gini = 0.0\\nsamples = 15.4%\\nvalue = [0.0, 1.0]'),\n",
              " Text(0.7142857142857143, 0.3, 'Age <= 40.5\\ngini = 0.5\\nsamples = 15.4%\\nvalue = [0.5, 0.5]'),\n",
              " Text(0.5714285714285714, 0.1, 'gini = 0.0\\nsamples = 7.7%\\nvalue = [1.0, 0.0]'),\n",
              " Text(0.8571428571428571, 0.1, 'gini = 0.0\\nsamples = 7.7%\\nvalue = [0.0, 1.0]')]"
            ]
          },
          "metadata": {},
          "execution_count": 112
        },
        {
          "output_type": "display_data",
          "data": {
            "text/plain": [
              "<Figure size 640x480 with 1 Axes>"
            ],
            "image/png": "[encoded data removed]"
          },
          "metadata": {}
        }
      ]
    },
    {
      "cell_type": "markdown",
      "source": [
        "#Step 5 – Research and Find out what the Gini Method for Splitting tree is. Explain"
      ],
      "metadata": {
        "id": "iEzAjrtRoh1w"
      }
    },
    {
      "cell_type": "markdown",
      "source": [
        "From the plot above, it can be seen that every split has a Gini (better known as Gini Index or Gini Impurity)\n",
        "\n",
        "This Gini Index is a measure of the probability that a randomly selected feature will be classified incorrectly.\n",
        "\n",
        "It is calculated by subtracting the sum of the squared probabilities of each class from one.\n",
        "\n",
        "GI = 1 - [sum(probability squared)]\n",
        "\n",
        "It ranges between 0 and 1, where 0 represents purity of the classification and 1 denotes complete random distribution of elements among various classes. A Gini Index of 0.5 shows that there is equal distribution of elements across some classes.\n",
        "\n",
        "Reference: https://www.geeksforgeeks.org/gini-impurity-and-entropy-in-decision-tree-ml/"
      ],
      "metadata": {
        "id": "QutMuxBJonWx"
      }
    },
    {
      "cell_type": "markdown",
      "source": [
        "#Step 6. RUN THIS COMMAND - print(dtree.predict([[40, 10, 7, 1]]))"
      ],
      "metadata": {
        "id": "kBPQNSwTo7pf"
      }
    },
    {
      "cell_type": "code",
      "source": [
        "#Run command\n",
        "print(decisiontree.predict([[40, 10, 7, 0, 0, 1]]))"
      ],
      "metadata": {
        "colab": {
          "base_uri": "https://localhost:8080/"
        },
        "id": "Zs5TxHQ3o_CT",
        "outputId": "bd5e3c13-b8e6-484d-b6e9-227e99aee519"
      },
      "execution_count": 113,
      "outputs": [
        {
          "output_type": "stream",
          "name": "stdout",
          "text": [
            "[1]\n"
          ]
        }
      ]
    },
    {
      "cell_type": "markdown",
      "source": [
        "#Step 7. RUN THIS COMMAND  print(dtree.predict([[40, 10, 6, 1]]))"
      ],
      "metadata": {
        "id": "b3MZ8NMupB3S"
      }
    },
    {
      "cell_type": "code",
      "source": [
        "#Run command\n",
        "print(decisiontree.predict([[40, 10, 6, 0, 0, 1]]))"
      ],
      "metadata": {
        "colab": {
          "base_uri": "https://localhost:8080/"
        },
        "id": "ytJE5AGopFOk",
        "outputId": "d7c2b5fb-9a4d-476c-d539-5dc209f03225"
      },
      "execution_count": 114,
      "outputs": [
        {
          "output_type": "stream",
          "name": "stdout",
          "text": [
            "[0]\n"
          ]
        }
      ]
    },
    {
      "cell_type": "markdown",
      "source": [
        "#Explain Step 6 and Step 7"
      ],
      "metadata": {
        "id": "BmZvAY4apHVc"
      }
    },
    {
      "cell_type": "markdown",
      "source": [
        "Explanation for step 6: The model predicted a result of 1 implyng that given a person of Age = 40, Experience of 10, Rank of 7 and Nationality of USA, that person is PREDICTED TO GO to the comedy show (1)\n",
        "\n",
        "\n",
        "Explanation for step 7: The model predicted a result of 0 implyng that given a person of Age = 40, Experience of 10, Rank of 6 and Nationality of USA, that person is PREDICTED NOT TO GO to the comedy show (1)"
      ],
      "metadata": {
        "id": "DnSKzZUApJXL"
      }
    }
  ],
  "metadata": {
    "colab": {
      "provenance": [],
      "mount_file_id": "1T_OfhFWICQGde6Bn7jhYLZQXww9-7r_V",
      "authorship_tag": "ABX9TyNC6ZnPXlVrJZne56XtXWba",
      "include_colab_link": true
    },
    "kernelspec": {
      "display_name": "Python 3",
      "name": "python3"
    },
    "language_info": {
      "name": "python"
    }
  },
  "nbformat": 4,
  "nbformat_minor": 0
}